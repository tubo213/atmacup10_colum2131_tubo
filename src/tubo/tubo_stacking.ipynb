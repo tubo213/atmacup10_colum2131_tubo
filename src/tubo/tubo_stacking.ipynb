{
 "metadata": {
  "language_info": {
   "codemirror_mode": {
    "name": "ipython",
    "version": 3
   },
   "file_extension": ".py",
   "mimetype": "text/x-python",
   "name": "python",
   "nbconvert_exporter": "python",
   "pygments_lexer": "ipython3",
   "version": "3.7.9-final"
  },
  "orig_nbformat": 2,
  "kernelspec": {
   "name": "python3",
   "display_name": "Python 3",
   "language": "python"
  }
 },
 "nbformat": 4,
 "nbformat_minor": 2,
 "cells": [
  {
   "source": [
    "# Import"
   ],
   "cell_type": "markdown",
   "metadata": {}
  },
  {
   "cell_type": "code",
   "execution_count": 1,
   "metadata": {},
   "outputs": [
    {
     "output_type": "display_data",
     "data": {
      "text/plain": "<IPython.core.display.HTML object>",
      "text/html": "<style type='text/css'>\n.datatable table.frame { margin-bottom: 0; }\n.datatable table.frame thead { border-bottom: none; }\n.datatable table.frame tr.coltypes td {  color: #FFFFFF;  line-height: 6px;  padding: 0 0.5em;}\n.datatable .bool    { background: #DDDD99; }\n.datatable .object  { background: #565656; }\n.datatable .int     { background: #5D9E5D; }\n.datatable .float   { background: #4040CC; }\n.datatable .str     { background: #CC4040; }\n.datatable .row_index {  background: var(--jp-border-color3);  border-right: 1px solid var(--jp-border-color0);  color: var(--jp-ui-font-color3);  font-size: 9px;}\n.datatable .frame tr.coltypes .row_index {  background: var(--jp-border-color0);}\n.datatable th:nth-child(2) { padding-left: 12px; }\n.datatable .hellipsis {  color: var(--jp-cell-editor-border-color);}\n.datatable .vellipsis {  background: var(--jp-layout-color0);  color: var(--jp-cell-editor-border-color);}\n.datatable .na {  color: var(--jp-cell-editor-border-color);  font-size: 80%;}\n.datatable .footer { font-size: 9px; }\n.datatable .frame_dimensions {  background: var(--jp-border-color3);  border-top: 1px solid var(--jp-border-color0);  color: var(--jp-ui-font-color3);  display: inline-block;  opacity: 0.6;  padding: 1px 10px 1px 5px;}\n</style>\n"
     },
     "metadata": {}
    }
   ],
   "source": [
    "import pandas as pd\n",
    "import numpy as np\n",
    "from module import stacking_models as models\n",
    "from sklearn.model_selection import KFold,StratifiedKFold\n",
    "from sklearn import preprocessing\n",
    "import glob"
   ]
  },
  {
   "source": [
    "# Define function"
   ],
   "cell_type": "markdown",
   "metadata": {}
  },
  {
   "cell_type": "code",
   "execution_count": 2,
   "metadata": {},
   "outputs": [],
   "source": [
    "def make_cv(n_split,seed):\n",
    "    fold = StratifiedKFold(n_splits=n_split,shuffle=True,random_state=seed)\n",
    "    bins = [1 if i > 0 else 0 for i in target.tolist()]\n",
    "    return list(fold.split(train,bins))"
   ]
  },
  {
   "source": [
    "# Config"
   ],
   "cell_type": "markdown",
   "metadata": {}
  },
  {
   "cell_type": "code",
   "execution_count": 3,
   "metadata": {},
   "outputs": [],
   "source": [
    "INPUT_PATH = '../../../data/'\n",
    "OUTPUT_PATH = '../../../'\n",
    "CONFIG_PATH = '../config/'\n",
    "ENSEMBLE_PATH = '../../../ensemble/'\n",
    "SEED = 12\n",
    "N_SPLIT = 5"
   ]
  },
  {
   "source": [
    "# Load Data"
   ],
   "cell_type": "markdown",
   "metadata": {}
  },
  {
   "cell_type": "code",
   "execution_count": 4,
   "metadata": {},
   "outputs": [],
   "source": [
    "target = np.log1p(pd.read_csv(INPUT_PATH+'train.csv')['likes'])\n",
    "train = pd.read_csv(INPUT_PATH+'train.csv')\n",
    "sub = pd.read_csv(INPUT_PATH+'atmacup10__sample_submission.csv')"
   ]
  },
  {
   "source": [
    "# 1層目"
   ],
   "cell_type": "markdown",
   "metadata": {}
  },
  {
   "cell_type": "code",
   "execution_count": 5,
   "metadata": {},
   "outputs": [],
   "source": [
    "#予測値呼び出し\n",
    "\n",
    "tubo_train = pd.read_csv(ENSEMBLE_PATH+'tubo_train.csv')\n",
    "colum_train = pd.concat([pd.read_csv(path) for path in sorted(glob.glob(ENSEMBLE_PATH+'colum2131_data/*train_model*'))], axis=1)\n",
    "tubo_test = pd.read_csv(ENSEMBLE_PATH+'tubo_test.csv')\n",
    "colum_test = pd.concat([pd.read_csv(path) for path in sorted(glob.glob(ENSEMBLE_PATH+'colum2131_data/*test*'))], axis=1)\n",
    "\n",
    "stack_train_df = pd.concat([tubo_train,colum_train],axis=1)\n",
    "stack_test_df = pd.concat([tubo_test,colum_test],axis=1)\n",
    "\n",
    "#正規化\n",
    "mm = preprocessing.StandardScaler()\n",
    "mm.fit(pd.concat([stack_train_df,stack_test_df],axis=0))\n",
    "\n",
    "stack_train_df = pd.DataFrame(mm.transform(stack_train_df),columns=stack_train_df.columns)\n",
    "stack_test_df = pd.DataFrame(mm.transform(stack_test_df),columns=stack_test_df.columns)"
   ]
  },
  {
   "source": [
    "# 2層目\n",
    "Ridge,RandomForest,LightGBM,SVR,from sklearn.ensemble import ExtraTreesRegressorでstacking"
   ],
   "cell_type": "markdown",
   "metadata": {}
  },
  {
   "cell_type": "code",
   "execution_count": 6,
   "metadata": {},
   "outputs": [
    {
     "output_type": "stream",
     "name": "stdout",
     "text": [
      "fold0:RMSLE 0.9521792745901877\nfold1:RMSLE 0.9801499300755079\nfold2:RMSLE 0.9501855738021495\nfold3:RMSLE 0.9839798592807237\nfold4:RMSLE 0.9812747412492342\n------------------------------------------------------\noof score: 0.9696694679963732\n------------------------------------------------------\n"
     ]
    }
   ],
   "source": [
    "cv = make_cv(N_SPLIT,SEED)\n",
    "\n",
    "model1 = models.Rid(0)\n",
    "oof_preds_rid, test_preds_rid, evals_result_rid =model1.cv(\n",
    "    target,stack_train_df,stack_test_df,cv\n",
    ")"
   ]
  },
  {
   "cell_type": "code",
   "execution_count": 7,
   "metadata": {},
   "outputs": [
    {
     "output_type": "stream",
     "name": "stdout",
     "text": [
      "fold0:RMSLE 0.9605896590363159\n",
      "fold1:RMSLE 0.9770145024884412\n",
      "fold2:RMSLE 0.9533283815894842\n",
      "fold3:RMSLE 0.985813898766687\n",
      "fold4:RMSLE 0.9798440390791415\n",
      "------------------------------------------------------\n",
      "oof score: 0.9713948258230226\n",
      "------------------------------------------------------\n"
     ]
    }
   ],
   "source": [
    "model3 = models.Rdf(5,90)\n",
    "oof_preds_rdf, test_preds_rdf, evals_result_rdf =model3.cv(\n",
    "    target,stack_train_df,stack_test_df,cv\n",
    ")"
   ]
  },
  {
   "cell_type": "code",
   "execution_count": 8,
   "metadata": {},
   "outputs": [
    {
     "output_type": "stream",
     "name": "stderr",
     "text": [
      "/opt/conda/lib/python3.7/site-packages/lightgbm/basic.py:1555: UserWarning: categorical_feature in Dataset is overridden.\n",
      "New categorical_feature is []\n",
      "  'New categorical_feature is {}'.format(sorted(list(categorical_feature))))\n",
      "/opt/conda/lib/python3.7/site-packages/lightgbm/basic.py:1555: UserWarning: categorical_feature in Dataset is overridden.\n",
      "New categorical_feature is []\n",
      "  'New categorical_feature is {}'.format(sorted(list(categorical_feature))))\n",
      "fold0:RMSLE 0.9587899223330091\n",
      "fold1:RMSLE 0.9788725184688566\n",
      "/opt/conda/lib/python3.7/site-packages/lightgbm/basic.py:1555: UserWarning: categorical_feature in Dataset is overridden.\n",
      "New categorical_feature is []\n",
      "  'New categorical_feature is {}'.format(sorted(list(categorical_feature))))\n",
      "fold2:RMSLE 0.9566178597123262\n",
      "/opt/conda/lib/python3.7/site-packages/lightgbm/basic.py:1555: UserWarning: categorical_feature in Dataset is overridden.\n",
      "New categorical_feature is []\n",
      "  'New categorical_feature is {}'.format(sorted(list(categorical_feature))))\n",
      "fold3:RMSLE 0.9794993762966412\n",
      "/opt/conda/lib/python3.7/site-packages/lightgbm/basic.py:1555: UserWarning: categorical_feature in Dataset is overridden.\n",
      "New categorical_feature is []\n",
      "  'New categorical_feature is {}'.format(sorted(list(categorical_feature))))\n",
      "fold4:RMSLE 0.9805315114058228\n",
      "------------------------------------------------------\n",
      "oof score: 0.9709210669672462\n",
      "------------------------------------------------------\n"
     ]
    }
   ],
   "source": [
    "lgbm_params = {\n",
    "    \"boosting_type\": \"gbdt\",\n",
    "    \"objective\": \"regression\",\n",
    "    \"metric\": \"rmse\",\n",
    "    \"num_leaves\":2,\n",
    "    \"learning_rate\":0.01,\n",
    "    \"verbose\":-1}\n",
    "model4 = models.Lgbm(lgbm_params)\n",
    "oof_preds_lgb, test_preds_lgb, evals_result_lgb =model4.cv(\n",
    "    target,stack_train_df,stack_test_df,cv\n",
    ")"
   ]
  },
  {
   "cell_type": "code",
   "execution_count": 9,
   "metadata": {},
   "outputs": [
    {
     "output_type": "stream",
     "name": "stdout",
     "text": [
      "fold0:RMSLE 0.9573815130546293\n",
      "fold1:RMSLE 0.986101143770643\n",
      "fold2:RMSLE 0.9565517697655445\n",
      "fold3:RMSLE 0.9926456347955535\n",
      "fold4:RMSLE 0.9841965395590235\n",
      "------------------------------------------------------\n",
      "oof score: 0.9754936948745129\n",
      "------------------------------------------------------\n"
     ]
    }
   ],
   "source": [
    "model5 = models.SVR('linear',4)\n",
    "oof_preds_svr, test_preds_svr, evals_result_svr =model5.cv(\n",
    "    target,stack_train_df,stack_test_df,cv\n",
    ")"
   ]
  },
  {
   "cell_type": "code",
   "execution_count": 9,
   "metadata": {},
   "outputs": [
    {
     "output_type": "stream",
     "name": "stdout",
     "text": [
      "fold0:RMSLE 0.9584672805673964\n",
      "fold1:RMSLE 0.9773425403873958\n",
      "fold2:RMSLE 0.9545152797359803\n",
      "fold3:RMSLE 0.976917330537333\n",
      "fold4:RMSLE 0.9785457437412171\n",
      "------------------------------------------------------\n",
      "oof score: 0.9692128784529741\n",
      "------------------------------------------------------\n"
     ]
    }
   ],
   "source": [
    "model6 = models.Extra(7,80)\n",
    "oof_preds_ext, test_preds_ext, evals_result_ext =model6.cv(\n",
    "    target,stack_train_df,stack_test_df,cv\n",
    ")"
   ]
  },
  {
   "cell_type": "code",
   "execution_count": 11,
   "metadata": {},
   "outputs": [],
   "source": [
    "stack_train = pd.DataFrame([oof_preds_rid,oof_preds_lgb,oof_preds_svr,oof_preds_rdf,oof_preds_ext]).T \n",
    "stack_test = pd.DataFrame([test_preds_rid,test_preds_lgb,test_preds_svr,test_preds_rdf,test_preds_ext]).T "
   ]
  },
  {
   "source": [
    "# 3層目\n",
    "2層目の予測値をRidge,LightGBMでstacking"
   ],
   "cell_type": "markdown",
   "metadata": {}
  },
  {
   "cell_type": "code",
   "execution_count": 12,
   "metadata": {},
   "outputs": [
    {
     "output_type": "stream",
     "name": "stdout",
     "text": [
      "fold0:RMSLE 0.9519970404575618\nfold1:RMSLE 0.9753909999019749\nfold2:RMSLE 0.9500878980545441\nfold3:RMSLE 0.9796786948299383\nfold4:RMSLE 0.9760343381311372\n------------------------------------------------------\noof score: 0.9667217395558446\n------------------------------------------------------\n"
     ]
    }
   ],
   "source": [
    "stack_model1 = models.Rid(0)\n",
    "oof_preds_stack_rid, test_preds_stack_rid, evals_result_stack_rid =stack_model1.cv(\n",
    "    target,stack_train,stack_test,cv\n",
    ")"
   ]
  },
  {
   "cell_type": "code",
   "execution_count": 13,
   "metadata": {},
   "outputs": [
    {
     "output_type": "stream",
     "name": "stderr",
     "text": [
      "/opt/conda/lib/python3.7/site-packages/lightgbm/basic.py:1555: UserWarning: categorical_feature in Dataset is overridden.\n",
      "New categorical_feature is []\n",
      "  'New categorical_feature is {}'.format(sorted(list(categorical_feature))))\n",
      "/opt/conda/lib/python3.7/site-packages/lightgbm/basic.py:1555: UserWarning: categorical_feature in Dataset is overridden.\n",
      "New categorical_feature is []\n",
      "  'New categorical_feature is {}'.format(sorted(list(categorical_feature))))\n",
      "fold0:RMSLE 0.9603702167186965\n",
      "fold1:RMSLE 0.9727058101284674\n",
      "/opt/conda/lib/python3.7/site-packages/lightgbm/basic.py:1555: UserWarning: categorical_feature in Dataset is overridden.\n",
      "New categorical_feature is []\n",
      "  'New categorical_feature is {}'.format(sorted(list(categorical_feature))))\n",
      "fold2:RMSLE 0.9502582637154507\n",
      "fold3:RMSLE 0.979274620064583\n",
      "/opt/conda/lib/python3.7/site-packages/lightgbm/basic.py:1555: UserWarning: categorical_feature in Dataset is overridden.\n",
      "New categorical_feature is []\n",
      "  'New categorical_feature is {}'.format(sorted(list(categorical_feature))))\n",
      "/opt/conda/lib/python3.7/site-packages/lightgbm/basic.py:1555: UserWarning: categorical_feature in Dataset is overridden.\n",
      "New categorical_feature is []\n",
      "  'New categorical_feature is {}'.format(sorted(list(categorical_feature))))\n",
      "fold4:RMSLE 0.9768382553709455\n",
      "------------------------------------------------------\n",
      "oof score: 0.9679508246321137\n",
      "------------------------------------------------------\n"
     ]
    }
   ],
   "source": [
    "stack_model2 = models.Lgbm(lgbm_params)\n",
    "oof_preds_stack_lgb, test_preds_stack_lgb, evals_result_stack_lgb =stack_model2.cv(\n",
    "    target,stack_train,stack_test,cv\n",
    ")"
   ]
  },
  {
   "cell_type": "code",
   "execution_count": 14,
   "metadata": {},
   "outputs": [],
   "source": [
    "stack_train_final = pd.DataFrame([oof_preds_stack_rid,oof_preds_stack_lgb]).T \n",
    "stack_test_final = pd.DataFrame([test_preds_stack_rid,test_preds_stack_lgb]).T "
   ]
  },
  {
   "source": [
    "# 4層目\n",
    "3層目の予測値をRidgeでstacking"
   ],
   "cell_type": "markdown",
   "metadata": {}
  },
  {
   "cell_type": "code",
   "execution_count": 15,
   "metadata": {},
   "outputs": [
    {
     "output_type": "stream",
     "name": "stdout",
     "text": [
      "fold0:RMSLE 0.9555099750219298\nfold1:RMSLE 0.9738475002895574\nfold2:RMSLE 0.9491982480351757\nfold3:RMSLE 0.9786859971616494\nfold4:RMSLE 0.9752639978794664\n------------------------------------------------------\noof score: 0.9665725927818855\n------------------------------------------------------\n"
     ]
    }
   ],
   "source": [
    "stack_model = models.Rid(0)\n",
    "oof_preds_stack, test_preds_stack, evals_result_stack =stack_model.cv(\n",
    "    target,stack_train_final,stack_test_final,cv\n",
    ")"
   ]
  },
  {
   "source": [
    "# Submission"
   ],
   "cell_type": "markdown",
   "metadata": {}
  },
  {
   "cell_type": "code",
   "execution_count": 16,
   "metadata": {},
   "outputs": [],
   "source": [
    "sub['likes'] = np.expm1(np.where(test_preds_stack <=0,0,test_preds_stack))\n",
    "sub.to_csv(OUTPUT_PATH+'submission.csv',index=False)"
   ]
  }
 ]
}